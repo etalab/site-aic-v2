{
 "cells": [
  {
   "cell_type": "code",
   "execution_count": null,
   "metadata": {},
   "outputs": [],
   "source": [
    "### limites actuelles et TODO du script:\n",
    "# TODO: rajout github et d'autres liens\n",
    "# TODO: tester le rajout de nouveaux profiles (faut-il lister quelques parts les fichiers? ou automatiquement récupérés?)\n",
    "# limite: la clé pour regrouper des informations est une partie du nom/le nom de l'EIG\n",
    "# limite: écrasement du fichier précédent (nécessité de rentrer les défis précédents à main)\n",
    "# limite: les fichiers sources ne sont pas rajouté. S'il le faut, il faut filtrer l'information sensible dessus avant de le faire"
   ]
  },
  {
   "cell_type": "code",
   "execution_count": null,
   "metadata": {},
   "outputs": [],
   "source": [
    "import pandas as pd\n",
    "import os\n",
    "\n",
    "# information entrée par les participants\n",
    "df = pd.read_excel(\n",
    "     os.path.join('./EIG6_Accompagnement_Photos et biographies.xlsx'),\n",
    "     engine='openpyxl',\n",
    ")\n",
    "\n",
    "# information sur les défis et métiers\n",
    "df_sup = pd.read_csv('./promotion_EG6.csv', sep=\";\")\n",
    "\n",
    "# variables: à ajuster\n",
    "promotion_numero = \"6\"\n",
    "role1 = \"participant\" \n",
    "defi_coach = \"Magellan\" # defis lié au role agent-programme\n",
    "role2 = \"agent-programme\""
   ]
  },
  {
   "cell_type": "code",
   "execution_count": null,
   "metadata": {},
   "outputs": [],
   "source": [
    "### Reformattage\n",
    "# df\n",
    "df['Nom'] = df['Nom'].str.title()\n",
    "df['title'] = df['Prénom'] + ' ' + df['Nom']\n",
    "# nom du fichier .md\n",
    "df['nom_du_fichier'] = df['Prénom'].str.lower().replace(' ', '-') + '-' + df['Nom'].str.lower().str.replace(' ', '-') + '.md'\n",
    "df = df.rename(columns= {'URL de votre profil LinkedIn': 'linkedin'})\n",
    "\n",
    "#df_sup: dernière partie du nom de famille comme clé\n",
    "df_sup['Nom'] = df_sup['Nom'].str.replace('-', ' ').str.split(' ').str[-1].str.title()\n",
    "# standardiser\n",
    "df_sup['Métier'] = np.where(\n",
    "   (df_sup['Métier'] == 'Développeur·euse') & (df_sup['Civilité'] == \"Mme\") , 'Développeuse', df_sup['Métier']\n",
    "   )\n",
    "df_sup['Métier'] = np.where(\n",
    "   (df_sup['Métier'] == 'Développeur·euse') & (df_sup['Civilité'] == \"M.\") , 'Développeur', df_sup['Métier']\n",
    "   )\n",
    "df_sup['Expertises'] = df_sup['Métier'].replace(['Développeur', 'Développeuse', 'Data scientist', 'Data engineer', 'Designer'], ['Développement', 'Développement', 'Data science', 'Data engineering', 'Design'])\n",
    "df_sup['Défi'] = df_sup['Défi'].replace(['artificIA', 'Écosphère(s)', \"Estim'action\", 'État bas carbone'], ['ArtificIA', 'Ecosphère(s)', \"Estim'Action\", 'Etat bas carbone'])\n",
    "\n",
    "\n",
    "# regrouper les informations (clé: Nom)\n",
    "df['Nom'] = df['Nom'].str.replace('ï', 'i').str.replace('-', ' ').str.split(' ').str[-1] # comme pour df_sup\n",
    "df_merged = df.merge(df_sup, left_on='Nom', right_on='Nom')"
   ]
  },
  {
   "cell_type": "code",
   "execution_count": null,
   "metadata": {},
   "outputs": [],
   "source": [
    "# Ecriture des fichiers\n",
    "def is_nan(x): #helper\n",
    "    return (x != x)\n",
    "\n",
    "\n",
    "for i in range(df_merged.shape[0]):\n",
    "    line = df_merged.loc[i] # donnée d'un(e) EIG\n",
    "    with open(line['nom_du_fichier'], \"w\") as curseur:\n",
    "        \n",
    "        # entête:\n",
    "        # lignes formatées: nom, métier, promotion, nom du défi, expertise, image, lien linkedin\n",
    "        curseur.write('---' + '\\n')\n",
    "        \n",
    "        curseur.write('title: {}\\n'.format(line['title']))\n",
    "        \n",
    "        curseur.write('job: {}\\n'.format(line['Métier']))\n",
    "        \n",
    "        curseur.write('promos:\\n')\n",
    "        curseur.write('  - Promotion {}\\n'.format(promotion_numero))\n",
    "        \n",
    "        if line['Défi'] != defi_coach:\n",
    "            curseur.write('role: {}\\n'.format(role1))\n",
    "        else:\n",
    "            curseur.write('role: {}\\n'.format(role2))\n",
    "        \n",
    "        curseur.write('defis:\\n')\n",
    "        curseur.write('  - {}\\n'.format(line['Défi']))\n",
    "        \n",
    "        curseur.write('expertise:\\n')\n",
    "        curseur.write('  - {}\\n'.format(line['Expertises']))\n",
    "        \n",
    "        curseur.write('image: img/promotion-6-photos/{}\\n'.format(line['Photo'].split('/')[-1]))\n",
    "        \n",
    "        if not is_nan(line['linkedin']):\n",
    "            curseur.write('linkedin: {}\\n'.format(line['linkedin']))\n",
    "        \n",
    "        curseur.write('---\\n\\n')\n",
    "        # description:\n",
    "        curseur.write('{}\\n'.format(line['Description']))"
   ]
  }
 ],
 "metadata": {
  "kernelspec": {
   "display_name": "Python 3",
   "language": "python",
   "name": "python3"
  },
  "language_info": {
   "codemirror_mode": {
    "name": "ipython",
    "version": 3
   },
   "file_extension": ".py",
   "mimetype": "text/x-python",
   "name": "python",
   "nbconvert_exporter": "python",
   "pygments_lexer": "ipython3",
   "version": "3.7.9"
  }
 },
 "nbformat": 4,
 "nbformat_minor": 4
}
